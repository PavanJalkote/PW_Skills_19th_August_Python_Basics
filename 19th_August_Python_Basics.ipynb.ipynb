{
 "cells": [
  {
   "cell_type": "markdown",
   "id": "fe34fd7b-9cef-460e-8aa2-637e8629af2e",
   "metadata": {},
   "source": [
    "TOPIC: Python Basics Variable"
   ]
  },
  {
   "cell_type": "markdown",
   "id": "0baa1cbe-b9af-4849-a592-234b1e3b0849",
   "metadata": {},
   "source": [
    "1. Declare two variables, `x` and `y`, and assign them integer values. Swap the values of these variables without using any temporary variable."
   ]
  },
  {
   "cell_type": "code",
   "execution_count": 8,
   "id": "2919373c-d96a-452a-96ed-a2b601b36192",
   "metadata": {},
   "outputs": [
    {
     "name": "stdout",
     "output_type": "stream",
     "text": [
      "Before Swapping => x : 10 & y : 40\n",
      "After Swapping => x : 40 & y : 10\n"
     ]
    }
   ],
   "source": [
    "x = 10\n",
    "y = 40\n",
    "\n",
    "print(f\"Before Swapping => x : {x} & y : {y}\")\n",
    "x = x + y\n",
    "y = x - y\n",
    "x = x - y\n",
    "\n",
    "print(f\"After Swapping => x : {x} & y : {y}\")"
   ]
  },
  {
   "cell_type": "markdown",
   "id": "9c32ebaf-df3c-4cd6-b028-012e3c8a3e1f",
   "metadata": {},
   "source": [
    "2. Create a program that calculates the area of a rectangle. Take the length and width as inputs from the user and store them in variables. Calculate and display the area."
   ]
  },
  {
   "cell_type": "code",
   "execution_count": 10,
   "id": "1765681f-239c-4446-b5c4-342d49b627aa",
   "metadata": {},
   "outputs": [
    {
     "name": "stdin",
     "output_type": "stream",
     "text": [
      "Enter the lenth of recatngle:  25.60\n",
      "Enter the breadth of recatngle:  69.80\n"
     ]
    },
    {
     "name": "stdout",
     "output_type": "stream",
     "text": [
      "Area of rectangle is: 1786.88\n"
     ]
    }
   ],
   "source": [
    "length = float(input(\"Enter the lenth of recatngle: \"))\n",
    "breadth = float(input(\"Enter the breadth of recatngle: \"))\n",
    "\n",
    "area_of_rectangle = length*breadth\n",
    "\n",
    "print(f\"Area of rectangle is: {area_of_rectangle}\")"
   ]
  },
  {
   "cell_type": "markdown",
   "id": "45c560b4-414a-4602-a76b-5a8c604b3cbc",
   "metadata": {},
   "source": [
    "3. Write a Python program that converts temperatures from Celsius to Fahrenheit. Take the temperature in Celsius as input, store it in a variable, convert it to Fahrenheit, and display the result."
   ]
  },
  {
   "cell_type": "code",
   "execution_count": 17,
   "id": "073926f0-bbbd-4dbe-a971-75df4f3138b2",
   "metadata": {},
   "outputs": [
    {
     "name": "stdin",
     "output_type": "stream",
     "text": [
      "Enter the Temperature in celsius:   40\n"
     ]
    },
    {
     "name": "stdout",
     "output_type": "stream",
     "text": [
      "The tenperature in Fahrenheit is: 104.0\n"
     ]
    }
   ],
   "source": [
    "temp_in_celsius = float(input(\"Enter the Temperature in celsius:  \"))\n",
    "\n",
    "temp_in_fahrenheit = (temp_in_celsius * 9/5) + 32\n",
    "\n",
    "print(f\"The tenperature in Fahrenheit is: {temp_in_fahrenheit}\")"
   ]
  },
  {
   "cell_type": "markdown",
   "id": "6da6f8eb-024a-486e-b5ff-2d0c1bff2ee7",
   "metadata": {},
   "source": [
    "TOPIC: String Based Questions"
   ]
  },
  {
   "cell_type": "markdown",
   "id": "83035862-709f-441a-a778-00c7cad619a3",
   "metadata": {},
   "source": [
    "1. Write a Python program that takes a string as input and prints the length of the string."
   ]
  },
  {
   "cell_type": "code",
   "execution_count": 13,
   "id": "3addb89d-35db-4984-9505-5095c7d010be",
   "metadata": {},
   "outputs": [
    {
     "name": "stdin",
     "output_type": "stream",
     "text": [
      "Enter the characters of string:  sdhbjhc\n"
     ]
    },
    {
     "name": "stdout",
     "output_type": "stream",
     "text": [
      "The length of the entered string is: 7\n"
     ]
    }
   ],
   "source": [
    "A = str(input(\"Enter the characters of string: \"))\n",
    "\n",
    "b = len(A)\n",
    "\n",
    "print(f\"The length of the entered string is: {b}\")"
   ]
  },
  {
   "cell_type": "markdown",
   "id": "d83c5b43-8b76-4345-8b8e-908e83ca91b3",
   "metadata": {},
   "source": [
    "2. Create a program that takes a sentence from the user and counts the number of vowels (a, e, i, o, u) in the string."
   ]
  },
  {
   "cell_type": "code",
   "execution_count": 28,
   "id": "92f86a81-764c-438b-8a0e-39fe24587edd",
   "metadata": {},
   "outputs": [
    {
     "name": "stdin",
     "output_type": "stream",
     "text": [
      "Enter a sentence:  I Love my country\n"
     ]
    },
    {
     "name": "stdout",
     "output_type": "stream",
     "text": [
      "Total number of vowels in the sentence: 5\n"
     ]
    }
   ],
   "source": [
    "sentence = input(\"Enter a sentence: \")\n",
    "\n",
    "sentence = sentence.lower()\n",
    "\n",
    "count_a = 0\n",
    "count_e = 0\n",
    "count_i = 0\n",
    "count_o = 0\n",
    "count_u = 0\n",
    "\n",
    "for char in sentence:\n",
    "    if char == 'a':\n",
    "        count_a = count_a + 1\n",
    "    elif char == 'e':\n",
    "        count_e = count_e + 1\n",
    "    elif char == 'i':\n",
    "        count_i = count_i + 1\n",
    "    elif char == 'o':\n",
    "        count_o = count_o + 1\n",
    "    elif char == 'u':\n",
    "        count_u = count_u + 1\n",
    "\n",
    "\n",
    "total_vowels = count_a + count_e + count_i + count_o + count_u\n",
    "\n",
    "print(f\"Total number of vowels in the sentence: { total_vowels}\")"
   ]
  },
  {
   "cell_type": "markdown",
   "id": "cd3d8824-614b-4b14-b70f-4550e8925847",
   "metadata": {},
   "source": [
    "3.  Given a string, reverse the order of characters using string slicing and print the reversed string."
   ]
  },
  {
   "cell_type": "code",
   "execution_count": 21,
   "id": "bf1b3a91-d0fb-482b-8672-274b26bdb19d",
   "metadata": {},
   "outputs": [
    {
     "name": "stdin",
     "output_type": "stream",
     "text": [
      "Enter the string:  I Love Krishna\n"
     ]
    },
    {
     "data": {
      "text/plain": [
       "'anhsirK evoL I'"
      ]
     },
     "execution_count": 21,
     "metadata": {},
     "output_type": "execute_result"
    }
   ],
   "source": [
    "a = str(input(\"Enter the string: \"))\n",
    "\n",
    "a[::-1]"
   ]
  },
  {
   "cell_type": "markdown",
   "id": "6c03b914-ff9d-44eb-9a41-0617c6b3f56e",
   "metadata": {},
   "source": [
    "4. Write a program that takes a string as input and checks if it is a palindrome (reads the same forwards and backwards)."
   ]
  },
  {
   "cell_type": "code",
   "execution_count": 23,
   "id": "f15e5e85-b5c3-41c5-b42f-998a669f6147",
   "metadata": {},
   "outputs": [
    {
     "name": "stdin",
     "output_type": "stream",
     "text": [
      "Enter the string:  SOX\n"
     ]
    },
    {
     "name": "stdout",
     "output_type": "stream",
     "text": [
      "The entered string is not a Palindrome\n"
     ]
    }
   ],
   "source": [
    "a = str(input(\"Enter the string: \"))\n",
    "\n",
    "b = a[::-1]\n",
    "\n",
    "if a==b:\n",
    "    print(\"The entered string is a Palindrome\")\n",
    "else:\n",
    "    print(\"The entered string is not a Palindrome\")"
   ]
  },
  {
   "cell_type": "markdown",
   "id": "9e7831bd-1567-4c69-9849-1a1277c6cdb2",
   "metadata": {},
   "source": [
    "5. Create a program that takes a string as input and removes all the spaces from it. Print the modified string without spaces."
   ]
  },
  {
   "cell_type": "code",
   "execution_count": 24,
   "id": "404e299a-97f6-4346-b7a1-ed7451f94845",
   "metadata": {},
   "outputs": [
    {
     "name": "stdin",
     "output_type": "stream",
     "text": [
      "Enter the string:  Hare Krishna Hare Ram\n"
     ]
    },
    {
     "name": "stdout",
     "output_type": "stream",
     "text": [
      "After replacing the sapes from string, the string will be: HareKrishnaHareRam\n"
     ]
    }
   ],
   "source": [
    "d = str(input(\"Enter the string: \"))\n",
    "\n",
    "e = d.replace(\" \", \"\")\n",
    "\n",
    "print(f\"After replacing the sapes from string, the string will be: {e}\")"
   ]
  }
 ],
 "metadata": {
  "kernelspec": {
   "display_name": "Python 3 (ipykernel)",
   "language": "python",
   "name": "python3"
  },
  "language_info": {
   "codemirror_mode": {
    "name": "ipython",
    "version": 3
   },
   "file_extension": ".py",
   "mimetype": "text/x-python",
   "name": "python",
   "nbconvert_exporter": "python",
   "pygments_lexer": "ipython3",
   "version": "3.10.8"
  }
 },
 "nbformat": 4,
 "nbformat_minor": 5
}
